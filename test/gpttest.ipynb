{
 "cells": [
  {
   "cell_type": "code",
   "execution_count": 1,
   "metadata": {},
   "outputs": [],
   "source": [
    "# 퀵소트 프로그램 주피터노트북으로 만들어줘"
   ]
  },
  {
   "cell_type": "code",
   "execution_count": 4,
   "metadata": {},
   "outputs": [],
   "source": [
    "# 2023년 02 월 달력을 기본으로 출력하는 html 만들어"
   ]
  },
  {
   "cell_type": "code",
   "execution_count": 2,
   "metadata": {},
   "outputs": [
    {
     "name": "stdout",
     "output_type": "stream",
     "text": [
      "[1, 3, 5, 7, 9]\n",
      "[1, 2, 3, 4, 5]\n"
     ]
    }
   ],
   "source": [
    "\n",
    "# chatgpt 가 짜준 퀵소트 파이썬\n",
    "# ctrl +shift + i 가 단축키입니다.\n",
    "def quick_sort(arr): \n",
    "    if len(arr) <= 1: \n",
    "        return arr \n",
    "    pivot = arr[len(arr) // 2] \n",
    "    lesser_arr, equal_arr, greater_arr = [], [], [] \n",
    "    for num in arr: \n",
    "        if num < pivot: \n",
    "            lesser_arr.append(num) \n",
    "        elif num > pivot: \n",
    "            greater_arr.append(num) \n",
    "        else: \n",
    "            equal_arr.append(num)  \n",
    "\n",
    "    return quick_sort(lesser_arr) + equal_arr + quick_sort(greater_arr)  \n",
    "\n",
    "   # 예시 배열 정의하기  \n",
    "array = [4, 6, 8, 10, 2]  \n",
    "\n",
    " # 배열 정렬하기  \n",
    "sortedArray = quick_sort(array)  \n",
    "\n",
    " # 정렬된 배열 출력하기  \n",
    "print(\"Sorted array:\")  \n",
    "for i in range(len(sortedArray)):  \n",
    "    print (sortedArray[i])"
   ]
  }
 ],
 "metadata": {
  "kernelspec": {
   "display_name": "Python 3",
   "language": "python",
   "name": "python3"
  },
  "language_info": {
   "codemirror_mode": {
    "name": "ipython",
    "version": 3
   },
   "file_extension": ".py",
   "mimetype": "text/x-python",
   "name": "python",
   "nbconvert_exporter": "python",
   "pygments_lexer": "ipython3",
   "version": "3.6.9"
  },
  "orig_nbformat": 4,
  "vscode": {
   "interpreter": {
    "hash": "31f2aee4e71d21fbe5cf8b01ff0e069b9275f58929596ceb00d14d90e3e16cd6"
   }
  }
 },
 "nbformat": 4,
 "nbformat_minor": 2
}
